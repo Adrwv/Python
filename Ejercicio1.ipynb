{
  "cells": [
    {
      "cell_type": "markdown",
      "metadata": {
        "id": "view-in-github",
        "colab_type": "text"
      },
      "source": [
        "<a href=\"https://colab.research.google.com/github/Adrwv/PythonUdemy/blob/main/Ejercicio1.ipynb\" target=\"_parent\"><img src=\"https://colab.research.google.com/assets/colab-badge.svg\" alt=\"Open In Colab\"/></a>"
      ]
    },
    {
      "cell_type": "code",
      "execution_count": null,
      "id": "172c0979-dba9-4ca7-9eee-18bbf2dab446",
      "metadata": {
        "id": "172c0979-dba9-4ca7-9eee-18bbf2dab446",
        "outputId": "94c05044-1b41-421d-e67e-35e820d07dc2"
      },
      "outputs": [
        {
          "name": "stdout",
          "output_type": "stream",
          "text": [
            "5\n"
          ]
        },
        {
          "data": {
            "text/plain": [
              "int"
            ]
          },
          "execution_count": 3,
          "metadata": {},
          "output_type": "execute_result"
        }
      ],
      "source": [
        "numero1 = 5\n",
        "print(numero1)\n",
        "type(numero1)"
      ]
    },
    {
      "cell_type": "code",
      "execution_count": null,
      "id": "54bf65e1-d8a7-4149-a601-c6cd32038e57",
      "metadata": {
        "id": "54bf65e1-d8a7-4149-a601-c6cd32038e57",
        "outputId": "2f5dce2e-2b72-4417-9aad-2c96c5561b67"
      },
      "outputs": [
        {
          "name": "stdout",
          "output_type": "stream",
          "text": [
            "6.5\n"
          ]
        },
        {
          "data": {
            "text/plain": [
              "float"
            ]
          },
          "execution_count": 5,
          "metadata": {},
          "output_type": "execute_result"
        }
      ],
      "source": [
        "numero2 = 6.5\n",
        "print(numero2)\n",
        "type(numero2)"
      ]
    },
    {
      "cell_type": "code",
      "execution_count": null,
      "id": "b2be27c4-5128-43c4-8e7d-353f55d5d22f",
      "metadata": {
        "id": "b2be27c4-5128-43c4-8e7d-353f55d5d22f",
        "outputId": "28cfd0e5-4615-491d-e297-50fec72063da"
      },
      "outputs": [
        {
          "name": "stdout",
          "output_type": "stream",
          "text": [
            "7\n"
          ]
        },
        {
          "data": {
            "text/plain": [
              "int"
            ]
          },
          "execution_count": 8,
          "metadata": {},
          "output_type": "execute_result"
        }
      ],
      "source": [
        "numero3 = 7\n",
        "print(numero3)\n",
        "type(numero3)"
      ]
    },
    {
      "cell_type": "code",
      "execution_count": null,
      "id": "0b0e8156-4256-4f99-8ffc-ba2b43a0e65c",
      "metadata": {
        "id": "0b0e8156-4256-4f99-8ffc-ba2b43a0e65c",
        "outputId": "a1b1541a-b422-4900-fa61-ac4a5f8b8927"
      },
      "outputs": [
        {
          "name": "stdout",
          "output_type": "stream",
          "text": [
            "18.5\n"
          ]
        },
        {
          "data": {
            "text/plain": [
              "float"
            ]
          },
          "execution_count": 10,
          "metadata": {},
          "output_type": "execute_result"
        }
      ],
      "source": [
        "suma = numero1 + numero2 + numero3\n",
        "print(suma)\n",
        "type(suma)"
      ]
    },
    {
      "cell_type": "code",
      "execution_count": null,
      "id": "02084bd1-1187-4f40-b1c9-46018d78cf51",
      "metadata": {
        "id": "02084bd1-1187-4f40-b1c9-46018d78cf51"
      },
      "outputs": [],
      "source": []
    }
  ],
  "metadata": {
    "kernelspec": {
      "display_name": "Python 3 (ipykernel)",
      "language": "python",
      "name": "python3"
    },
    "language_info": {
      "codemirror_mode": {
        "name": "ipython",
        "version": 3
      },
      "file_extension": ".py",
      "mimetype": "text/x-python",
      "name": "python",
      "nbconvert_exporter": "python",
      "pygments_lexer": "ipython3",
      "version": "3.9.13"
    },
    "colab": {
      "provenance": [],
      "include_colab_link": true
    }
  },
  "nbformat": 4,
  "nbformat_minor": 5
}