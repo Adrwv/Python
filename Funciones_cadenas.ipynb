{
  "cells": [
    {
      "cell_type": "markdown",
      "metadata": {
        "id": "view-in-github",
        "colab_type": "text"
      },
      "source": [
        "<a href=\"https://colab.research.google.com/github/Adrwv/PythonUdemy/blob/main/Funciones_cadenas.ipynb\" target=\"_parent\"><img src=\"https://colab.research.google.com/assets/colab-badge.svg\" alt=\"Open In Colab\"/></a>"
      ]
    },
    {
      "cell_type": "markdown",
      "id": "4dd0ff04-c045-4b6a-b8d6-76cbcf16c9ac",
      "metadata": {
        "id": "4dd0ff04-c045-4b6a-b8d6-76cbcf16c9ac"
      },
      "source": [
        "**Funciones con cadenas**"
      ]
    },
    {
      "cell_type": "code",
      "execution_count": null,
      "id": "38761ea8-dd52-4b63-b7ea-4f3690839f23",
      "metadata": {
        "id": "38761ea8-dd52-4b63-b7ea-4f3690839f23"
      },
      "outputs": [],
      "source": [
        "cadena = 'Hola mundo'"
      ]
    },
    {
      "cell_type": "code",
      "execution_count": null,
      "id": "34c11681-91ca-456c-a650-a5833f348816",
      "metadata": {
        "id": "34c11681-91ca-456c-a650-a5833f348816"
      },
      "outputs": [],
      "source": [
        "#Se muestra la longitud de la cadena"
      ]
    },
    {
      "cell_type": "code",
      "execution_count": null,
      "id": "5d8b4e53-6ad2-4571-ac88-9dbc7cf58890",
      "metadata": {
        "id": "5d8b4e53-6ad2-4571-ac88-9dbc7cf58890",
        "outputId": "e39e276c-0b50-478d-c4e4-c34753d7a7e5"
      },
      "outputs": [
        {
          "data": {
            "text/plain": [
              "10"
            ]
          },
          "execution_count": 2,
          "metadata": {},
          "output_type": "execute_result"
        }
      ],
      "source": [
        "len(cadena)"
      ]
    },
    {
      "cell_type": "code",
      "execution_count": null,
      "id": "c1517d77-0a7c-4565-8a7e-e74aee3a16e5",
      "metadata": {
        "id": "c1517d77-0a7c-4565-8a7e-e74aee3a16e5"
      },
      "outputs": [],
      "source": [
        "#se convierte a mayusculas"
      ]
    },
    {
      "cell_type": "code",
      "execution_count": null,
      "id": "34565566-933c-4225-afd5-dfb0152bfd74",
      "metadata": {
        "id": "34565566-933c-4225-afd5-dfb0152bfd74",
        "outputId": "dc40c3be-28d0-4204-e8f8-7ba1abf5bc88"
      },
      "outputs": [
        {
          "data": {
            "text/plain": [
              "'HOLA MUNDO'"
            ]
          },
          "execution_count": 7,
          "metadata": {},
          "output_type": "execute_result"
        }
      ],
      "source": [
        "cadena.upper()"
      ]
    },
    {
      "cell_type": "code",
      "execution_count": null,
      "id": "abd38229-9753-41e7-9821-8af9f0d85246",
      "metadata": {
        "id": "abd38229-9753-41e7-9821-8af9f0d85246"
      },
      "outputs": [],
      "source": [
        "#se convierte a minusculas"
      ]
    },
    {
      "cell_type": "code",
      "execution_count": null,
      "id": "bf03d01c-2e1f-4cec-bc37-f51b6a1eed8b",
      "metadata": {
        "id": "bf03d01c-2e1f-4cec-bc37-f51b6a1eed8b",
        "outputId": "a935e7c6-f866-4a49-9ea6-1d3ded043559"
      },
      "outputs": [
        {
          "data": {
            "text/plain": [
              "'hola mundo'"
            ]
          },
          "execution_count": 9,
          "metadata": {},
          "output_type": "execute_result"
        }
      ],
      "source": [
        "cadena.lower()"
      ]
    },
    {
      "cell_type": "code",
      "execution_count": null,
      "id": "643dccc4-5c88-4676-912b-e148f8e0fad1",
      "metadata": {
        "id": "643dccc4-5c88-4676-912b-e148f8e0fad1"
      },
      "outputs": [],
      "source": [
        "#Con tabulador muestra opciones de funciones"
      ]
    },
    {
      "cell_type": "markdown",
      "id": "8945427e-e063-41d0-aeec-20fcdf78909c",
      "metadata": {
        "id": "8945427e-e063-41d0-aeec-20fcdf78909c"
      },
      "source": [
        "![imagen_2022-11-28_151950136.png](data:image/png;base64,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)"
      ]
    },
    {
      "cell_type": "code",
      "execution_count": null,
      "id": "b59e291a-877d-4160-99d8-3ab32813cf4b",
      "metadata": {
        "id": "b59e291a-877d-4160-99d8-3ab32813cf4b",
        "outputId": "dcff4699-0fd9-4493-d36f-d3c401aab8b9"
      },
      "outputs": [
        {
          "data": {
            "text/plain": [
              "'Hola mundo'"
            ]
          },
          "execution_count": 12,
          "metadata": {},
          "output_type": "execute_result"
        }
      ],
      "source": [
        "cadena.format()"
      ]
    }
  ],
  "metadata": {
    "kernelspec": {
      "display_name": "Python 3 (ipykernel)",
      "language": "python",
      "name": "python3"
    },
    "language_info": {
      "codemirror_mode": {
        "name": "ipython",
        "version": 3
      },
      "file_extension": ".py",
      "mimetype": "text/x-python",
      "name": "python",
      "nbconvert_exporter": "python",
      "pygments_lexer": "ipython3",
      "version": "3.9.12"
    },
    "colab": {
      "provenance": [],
      "include_colab_link": true
    }
  },
  "nbformat": 4,
  "nbformat_minor": 5
}